{
  "nbformat": 4,
  "nbformat_minor": 0,
  "metadata": {
    "colab": {
      "provenance": [],
      "authorship_tag": "ABX9TyOJGW1P84U7yuvkAlkfGObo",
      "include_colab_link": true
    },
    "kernelspec": {
      "name": "python3",
      "display_name": "Python 3"
    },
    "language_info": {
      "name": "python"
    }
  },
  "cells": [
    {
      "cell_type": "markdown",
      "metadata": {
        "id": "view-in-github",
        "colab_type": "text"
      },
      "source": [
        "<a href=\"https://colab.research.google.com/github/fmakkawi/Data110/blob/main/HW_8.ipynb\" target=\"_parent\"><img src=\"https://colab.research.google.com/assets/colab-badge.svg\" alt=\"Open In Colab\"/></a>"
      ]
    },
    {
      "cell_type": "markdown",
      "source": [
        "# HW-8 - Regular Expressions\n",
        "# Author: Farah Makkawi"
      ],
      "metadata": {
        "id": "m8YQyH44XIOm"
      }
    },
    {
      "cell_type": "code",
      "source": [
        "import re\n",
        "\n",
        "# Problem 1: Split text into list of words using RegEx\n",
        "def split_text(text):\n",
        "    return re.findall(r'\\b\\w+\\b', text)\n",
        "\n",
        "# Test\n",
        "txt = 'it is raining outside. we could use the rain.'\n",
        "split_text(txt)\n"
      ],
      "metadata": {
        "colab": {
          "base_uri": "https://localhost:8080/"
        },
        "id": "W0VdubA9XJ9M",
        "outputId": "4908cd9c-0572-493a-c0a2-2872f7ef5d90"
      },
      "execution_count": 2,
      "outputs": [
        {
          "output_type": "execute_result",
          "data": {
            "text/plain": [
              "['it', 'is', 'raining', 'outside', 'we', 'could', 'use', 'the', 'rain']"
            ]
          },
          "metadata": {},
          "execution_count": 2
        }
      ]
    },
    {
      "cell_type": "code",
      "source": [
        "# Problem 2: Check if sentence starts with a capital and ends with a period\n",
        "def is_sentence(text):\n",
        "    pattern = r'^[A-Z][^!?]*\\.$'\n",
        "    return bool(re.match(pattern, text))\n",
        "\n",
        "# Test\n",
        "print(is_sentence(\"This is a test.\"))\n",
        "print(is_sentence(\"hey you!\"))\n",
        "print(is_sentence(\"Is this valid.\"))\n",
        "print(is_sentence(\"not valid\"))\n"
      ],
      "metadata": {
        "colab": {
          "base_uri": "https://localhost:8080/"
        },
        "id": "K95h0on4XRIk",
        "outputId": "1718399b-7f9f-4a14-d153-0809901ae7c1"
      },
      "execution_count": 4,
      "outputs": [
        {
          "output_type": "stream",
          "name": "stdout",
          "text": [
            "True\n",
            "False\n",
            "True\n",
            "False\n"
          ]
        }
      ]
    }
  ]
}