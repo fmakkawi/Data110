{
  "nbformat": 4,
  "nbformat_minor": 0,
  "metadata": {
    "colab": {
      "provenance": [],
      "authorship_tag": "ABX9TyNNitBah+h0SAVxK26qA9aN",
      "include_colab_link": true
    },
    "kernelspec": {
      "name": "python3",
      "display_name": "Python 3"
    },
    "language_info": {
      "name": "python"
    }
  },
  "cells": [
    {
      "cell_type": "markdown",
      "metadata": {
        "id": "view-in-github",
        "colab_type": "text"
      },
      "source": [
        "<a href=\"https://colab.research.google.com/github/fmakkawi/Data110/blob/main/Activity4_1.ipynb\" target=\"_parent\"><img src=\"https://colab.research.google.com/assets/colab-badge.svg\" alt=\"Open In Colab\"/></a>"
      ]
    },
    {
      "cell_type": "code",
      "execution_count": 1,
      "metadata": {
        "colab": {
          "base_uri": "https://localhost:8080/"
        },
        "id": "b6r9XI2xKSSe",
        "outputId": "161e3da4-d4f7-4474-8fee-ec7ce1655d74"
      },
      "outputs": [
        {
          "output_type": "stream",
          "name": "stdout",
          "text": [
            "Upper Case:\n",
            "THIS IS THE FIRST LINE.\n",
            "THIS IS THE SECOND LINE.\n",
            "\n",
            "Lower Case:\n",
            "this is the first line.\n",
            "this is the second line.\n",
            "\n",
            "Camel Case:\n",
            "ThisIsTheFirstLine.\n",
            "ThisIsTheSecondLine.\n",
            "\n",
            "Bar Function:\n",
            "Result: 2.9475000000000002\n"
          ]
        }
      ],
      "source": [
        "# Farah Makkawi\n",
        "# CMSC-206  - Simple File and String Task\n",
        "\n",
        "# Function to read file and change text case\n",
        "def foo(filename, case_type):\n",
        "    try:\n",
        "        file = open(filename, \"r\")\n",
        "        for line in file:\n",
        "            line = line.strip()\n",
        "            if case_type.lower() == \"upper\":\n",
        "                print(line.upper())\n",
        "            elif case_type.lower() == \"lower\":\n",
        "                print(line.lower())\n",
        "            elif case_type.lower() == \"camel\":\n",
        "                words = line.split()\n",
        "                camel = \"\".join(word.capitalize() for word in words)\n",
        "                print(camel)\n",
        "            else:\n",
        "                print(\"Choose upper, lower, or camel only.\")\n",
        "        file.close()\n",
        "    except:\n",
        "        print(\"File not found.\")\n",
        "\n",
        "# Function to get number from string and add value\n",
        "def bar(text, add_value):\n",
        "    index = text.find(\":\")\n",
        "    if index != -1:\n",
        "        num = text[index+1:].strip()\n",
        "        try:\n",
        "            num = float(num)\n",
        "            total = num + add_value\n",
        "            print(\"Result:\", total)\n",
        "        except:\n",
        "            print(\"Cannot convert to number.\")\n",
        "    else:\n",
        "        print(\"Colon not found in the string.\")\n",
        "\n",
        "# Create file to test\n",
        "f = open(\"my_file.txt\", \"w\")\n",
        "f.write(\"this is the first line.\\nthis is the second line.\")\n",
        "f.close()\n",
        "\n",
        "# Run examples\n",
        "print(\"Upper Case:\")\n",
        "foo(\"my_file.txt\", \"upper\")\n",
        "\n",
        "print(\"\\nLower Case:\")\n",
        "foo(\"my_file.txt\", \"lower\")\n",
        "\n",
        "print(\"\\nCamel Case:\")\n",
        "foo(\"my_file.txt\", \"camel\")\n",
        "\n",
        "print(\"\\nBar Function:\")\n",
        "bar(\"X-DSPAM-Confidence:0.8475\", 2.1)\n"
      ]
    }
  ]
}