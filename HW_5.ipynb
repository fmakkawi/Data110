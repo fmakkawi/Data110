{
  "nbformat": 4,
  "nbformat_minor": 0,
  "metadata": {
    "colab": {
      "provenance": [],
      "authorship_tag": "ABX9TyNpoJOpuczNx7s1LAkwJViP",
      "include_colab_link": true
    },
    "kernelspec": {
      "name": "python3",
      "display_name": "Python 3"
    },
    "language_info": {
      "name": "python"
    }
  },
  "cells": [
    {
      "cell_type": "markdown",
      "metadata": {
        "id": "view-in-github",
        "colab_type": "text"
      },
      "source": [
        "<a href=\"https://colab.research.google.com/github/fmakkawi/Data110/blob/main/HW_5.ipynb\" target=\"_parent\"><img src=\"https://colab.research.google.com/assets/colab-badge.svg\" alt=\"Open In Colab\"/></a>"
      ]
    },
    {
      "cell_type": "markdown",
      "source": [
        "Farah Makkawi"
      ],
      "metadata": {
        "id": "BrTRgTPXV72a"
      }
    },
    {
      "cell_type": "code",
      "execution_count": 2,
      "metadata": {
        "colab": {
          "base_uri": "https://localhost:8080/"
        },
        "id": "Gr5KWTRvV4fq",
        "outputId": "150b85fd-9394-46ab-e101-db9e5cd2306c"
      },
      "outputs": [
        {
          "output_type": "stream",
          "name": "stdout",
          "text": [
            "Enter four first names, separated by commas: Tallia\n",
            "Enter four last names, separated by commas: Jalal\n",
            "First names: ['Tallia']\n",
            "Last names: ['Jalal']\n",
            "Generated: ['Tallia Jalal']\n",
            "25 unique random numbers saved to numbers.txt:\n",
            "[194, 193, 191, 186, 182, 179, 177, 176, 172, 171, 170, 162, 159, 156, 138, 132, 130, 128, 126, 125, 123, 120, 115, 105, 104]\n"
          ]
        }
      ],
      "source": [
        "# HW-5 by Farah Makkawi\n",
        "# Part 1: Generate list of name combinations\n",
        "def generate_names():\n",
        "    first_names = input(\"Enter four first names, separated by commas: \").strip().split(',')\n",
        "    last_names = input(\"Enter four last names, separated by commas: \").strip().split(',')\n",
        "\n",
        "    first_names = [name.strip() for name in first_names]\n",
        "    last_names = [name.strip() for name in last_names]\n",
        "\n",
        "    print(\"First names:\", first_names)\n",
        "    print(\"Last names:\", last_names)\n",
        "\n",
        "    combined_names = []\n",
        "    for first in first_names:\n",
        "        for last in last_names:\n",
        "            combined_names.append(f\"{first} {last}\")\n",
        "\n",
        "    print(\"Generated:\", combined_names)\n",
        "\n",
        "# Part 2: Generate random unique numbers and save to file\n",
        "import random\n",
        "\n",
        "def generate_random_numbers():\n",
        "    numbers = random.sample(range(100, 201), 25)\n",
        "    numbers.sort(reverse=True)\n",
        "\n",
        "    with open(\"numbers.txt\", \"w\") as f:\n",
        "        for num in numbers:\n",
        "            f.write(str(num) + \"\\n\")\n",
        "\n",
        "    print(\"25 unique random numbers saved to numbers.txt:\")\n",
        "    print(numbers)\n",
        "\n",
        "# Run tests\n",
        "generate_names()\n",
        "generate_random_numbers()\n"
      ]
    }
  ]
}