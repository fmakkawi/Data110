{
  "nbformat": 4,
  "nbformat_minor": 0,
  "metadata": {
    "colab": {
      "provenance": [],
      "authorship_tag": "ABX9TyPfsb6CPsa3Rr622iPPUDnR",
      "include_colab_link": true
    },
    "kernelspec": {
      "name": "python3",
      "display_name": "Python 3"
    },
    "language_info": {
      "name": "python"
    }
  },
  "cells": [
    {
      "cell_type": "markdown",
      "metadata": {
        "id": "view-in-github",
        "colab_type": "text"
      },
      "source": [
        "<a href=\"https://colab.research.google.com/github/fmakkawi/Data110/blob/main/cmscfarah2.ipynb\" target=\"_parent\"><img src=\"https://colab.research.google.com/assets/colab-badge.svg\" alt=\"Open In Colab\"/></a>"
      ]
    },
    {
      "cell_type": "markdown",
      "source": [
        "CMSC-206 Activity 2.1 – Python Loops\n",
        "Made by: Farah Makkawi\n",
        "Code and Reflection"
      ],
      "metadata": {
        "id": "dYqkNbsb-7RI"
      }
    },
    {
      "cell_type": "code",
      "source": [
        "# Made by Farah Makkawi - CMSC-206 Activity 2.1\n",
        "\n",
        "max_stars = 11  # fixed number of stars for the center row\n",
        "\n",
        "# Top part\n",
        "for i in range(1, max_stars + 1, 2):\n",
        "    print(\"*\" * i)\n",
        "\n",
        "# Bottom part\n",
        "for i in range(max_stars - 2, 0, -2):\n",
        "    print(\"*\" * i)\n",
        "\n"
      ],
      "metadata": {
        "colab": {
          "base_uri": "https://localhost:8080/"
        },
        "id": "2K93e40Q-9Yf",
        "outputId": "8e40cccb-17ea-47da-9869-0b7b78fae4ac"
      },
      "execution_count": 5,
      "outputs": [
        {
          "output_type": "stream",
          "name": "stdout",
          "text": [
            "*\n",
            "***\n",
            "*****\n",
            "*******\n",
            "*********\n",
            "***********\n",
            "*********\n",
            "*******\n",
            "*****\n",
            "***\n",
            "*\n"
          ]
        }
      ]
    }
  ]
}