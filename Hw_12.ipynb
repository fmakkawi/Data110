{
  "nbformat": 4,
  "nbformat_minor": 0,
  "metadata": {
    "colab": {
      "provenance": [],
      "authorship_tag": "ABX9TyNqiJ7iDVtnnNOLrSf4yiS/",
      "include_colab_link": true
    },
    "kernelspec": {
      "name": "python3",
      "display_name": "Python 3"
    },
    "language_info": {
      "name": "python"
    }
  },
  "cells": [
    {
      "cell_type": "markdown",
      "metadata": {
        "id": "view-in-github",
        "colab_type": "text"
      },
      "source": [
        "<a href=\"https://colab.research.google.com/github/fmakkawi/Data110/blob/main/Hw_12.ipynb\" target=\"_parent\"><img src=\"https://colab.research.google.com/assets/colab-badge.svg\" alt=\"Open In Colab\"/></a>"
      ]
    },
    {
      "cell_type": "markdown",
      "source": [
        "Farah Makkawi"
      ],
      "metadata": {
        "id": "VqivAKOxUPMM"
      }
    },
    {
      "cell_type": "code",
      "source": [
        "# Author: Farah Makkawi\n",
        "import requests\n",
        "from bs4 import BeautifulSoup\n",
        "\n",
        "# Step 1: Fetch the web page\n",
        "url = 'http://quotes.toscrape.com'\n",
        "response = requests.get(url)\n",
        "\n",
        "# Step 2: Parse HTML\n",
        "soup = BeautifulSoup(response.text, 'html.parser')\n",
        "\n",
        "# Step 3: Extract and display quotes\n",
        "quotes = soup.find_all('span', class_='text')\n",
        "authors = soup.find_all('small', class_='author')\n",
        "\n",
        "for i in range(len(quotes)):\n",
        "    print(f\"{i+1}. {quotes[i].text} - {authors[i].text}\")\n"
      ],
      "metadata": {
        "colab": {
          "base_uri": "https://localhost:8080/"
        },
        "id": "MCIOvbrXY2y0",
        "outputId": "070d59c7-ee2b-4e41-9b48-b7f06021cc6f"
      },
      "execution_count": 7,
      "outputs": [
        {
          "output_type": "stream",
          "name": "stdout",
          "text": [
            "1. “The world as we have created it is a process of our thinking. It cannot be changed without changing our thinking.” - Albert Einstein\n",
            "2. “It is our choices, Harry, that show what we truly are, far more than our abilities.” - J.K. Rowling\n",
            "3. “There are only two ways to live your life. One is as though nothing is a miracle. The other is as though everything is a miracle.” - Albert Einstein\n",
            "4. “The person, be it gentleman or lady, who has not pleasure in a good novel, must be intolerably stupid.” - Jane Austen\n",
            "5. “Imperfection is beauty, madness is genius and it's better to be absolutely ridiculous than absolutely boring.” - Marilyn Monroe\n",
            "6. “Try not to become a man of success. Rather become a man of value.” - Albert Einstein\n",
            "7. “It is better to be hated for what you are than to be loved for what you are not.” - André Gide\n",
            "8. “I have not failed. I've just found 10,000 ways that won't work.” - Thomas A. Edison\n",
            "9. “A woman is like a tea bag; you never know how strong it is until it's in hot water.” - Eleanor Roosevelt\n",
            "10. “A day without sunshine is like, you know, night.” - Steve Martin\n"
          ]
        }
      ]
    }
  ]
}