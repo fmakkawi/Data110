{
  "nbformat": 4,
  "nbformat_minor": 0,
  "metadata": {
    "colab": {
      "provenance": [],
      "authorship_tag": "ABX9TyNF5OpMssjP2DXq4Lu5CJEd",
      "include_colab_link": true
    },
    "kernelspec": {
      "name": "python3",
      "display_name": "Python 3"
    },
    "language_info": {
      "name": "python"
    }
  },
  "cells": [
    {
      "cell_type": "markdown",
      "metadata": {
        "id": "view-in-github",
        "colab_type": "text"
      },
      "source": [
        "<a href=\"https://colab.research.google.com/github/fmakkawi/Data110/blob/main/HW_3.ipynb\" target=\"_parent\"><img src=\"https://colab.research.google.com/assets/colab-badge.svg\" alt=\"Open In Colab\"/></a>"
      ]
    },
    {
      "cell_type": "markdown",
      "source": [
        "Farah Makkawi"
      ],
      "metadata": {
        "id": "9_LQY2QrIPvV"
      }
    },
    {
      "cell_type": "code",
      "source": [
        "from math import pi\n",
        "\n",
        "# Author: Farah Makkawi\n",
        "\n",
        "# Function to calculate area for different shapes\n",
        "def area_calc(shape, *args):\n",
        "    shape = shape.lower()\n",
        "\n",
        "    if shape == \"rectangle\":\n",
        "        if len(args) == 2:\n",
        "            return args[0] * args[1]\n",
        "        else:\n",
        "            return \"Need length and width\"\n",
        "\n",
        "    elif shape == \"triangle\":\n",
        "        if len(args) == 2:\n",
        "            return 0.5 * args[0] * args[1]\n",
        "        else:\n",
        "            return \"Need base and height\"\n",
        "\n",
        "    elif shape == \"circle\":\n",
        "        if len(args) == 1:\n",
        "            return pi * args[0] ** 2\n",
        "        else:\n",
        "            return \"Need radius\"\n",
        "\n",
        "    elif shape == \"square\":\n",
        "        if len(args) == 1:\n",
        "            return args[0] * args[0]\n",
        "        else:\n",
        "            return \"Need side length\"\n",
        "\n",
        "    else:\n",
        "        return \"Unknown shape\"\n"
      ],
      "metadata": {
        "id": "PwbS-JmMBBLx"
      },
      "execution_count": 2,
      "outputs": []
    },
    {
      "cell_type": "code",
      "source": [
        "# Function to calculate sum, average, max, and min\n",
        "def stat_calc(*args):\n",
        "    if not args:\n",
        "        return \"No values provided\"\n",
        "\n",
        "    total = sum(args)\n",
        "    avg = total / len(args)\n",
        "    return {\n",
        "        \"sum\": total,\n",
        "        \"average\": round(avg, 2),\n",
        "        \"max\": max(args),\n",
        "        \"min\": min(args)\n",
        "    }\n",
        "\n",
        "# Test examples\n",
        "print(area_calc(\"rectangle\", 3, 7))    # 21\n",
        "print(area_calc(\"triangle\", 6, 7))     # 21.0\n",
        "print(area_calc(\"circle\", 5))          # 78.54\n",
        "print(area_calc(\"square\", 4))          # 16\n",
        "\n",
        "print(stat_calc(1, 3, 4))              # {'sum': 8, 'average': 2.67, 'max': 4, 'min': 1}\n",
        "print(stat_calc(5, 10, 15, 20, 25))    # {'sum': 75, 'average': 15.0, 'max': 25, 'min': 5}"
      ],
      "metadata": {
        "colab": {
          "base_uri": "https://localhost:8080/"
        },
        "id": "enwO_lnTBJ2Z",
        "outputId": "d2862185-4da3-4ee4-de0a-99903a9b4567"
      },
      "execution_count": 3,
      "outputs": [
        {
          "output_type": "stream",
          "name": "stdout",
          "text": [
            "21\n",
            "21.0\n",
            "78.53981633974483\n",
            "16\n",
            "{'sum': 8, 'average': 2.67, 'max': 4, 'min': 1}\n",
            "{'sum': 75, 'average': 15.0, 'max': 25, 'min': 5}\n"
          ]
        }
      ]
    }
  ]
}