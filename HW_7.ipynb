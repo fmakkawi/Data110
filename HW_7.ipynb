{
  "nbformat": 4,
  "nbformat_minor": 0,
  "metadata": {
    "colab": {
      "provenance": [],
      "authorship_tag": "ABX9TyN8YFfjBsd9HnaJBO1eLvow",
      "include_colab_link": true
    },
    "kernelspec": {
      "name": "python3",
      "display_name": "Python 3"
    },
    "language_info": {
      "name": "python"
    }
  },
  "cells": [
    {
      "cell_type": "markdown",
      "metadata": {
        "id": "view-in-github",
        "colab_type": "text"
      },
      "source": [
        "<a href=\"https://colab.research.google.com/github/fmakkawi/Data110/blob/main/HW_7.ipynb\" target=\"_parent\"><img src=\"https://colab.research.google.com/assets/colab-badge.svg\" alt=\"Open In Colab\"/></a>"
      ]
    },
    {
      "cell_type": "markdown",
      "source": [
        "Farah Makkawi"
      ],
      "metadata": {
        "id": "-TJBp9ZXbaWu"
      }
    },
    {
      "cell_type": "code",
      "source": [
        "from google.colab import files\n",
        "\n",
        "# Upload the file\n",
        "uploaded = files.upload()\n"
      ],
      "metadata": {
        "colab": {
          "base_uri": "https://localhost:8080/",
          "height": 73
        },
        "id": "kfIU2JEebcGJ",
        "outputId": "ef12117e-da6e-4c01-8d59-80fe74a63de6"
      },
      "execution_count": 2,
      "outputs": [
        {
          "output_type": "display_data",
          "data": {
            "text/plain": [
              "<IPython.core.display.HTML object>"
            ],
            "text/html": [
              "\n",
              "     <input type=\"file\" id=\"files-d4f07d99-db84-4fe3-a6d3-4d5d57008d18\" name=\"files[]\" multiple disabled\n",
              "        style=\"border:none\" />\n",
              "     <output id=\"result-d4f07d99-db84-4fe3-a6d3-4d5d57008d18\">\n",
              "      Upload widget is only available when the cell has been executed in the\n",
              "      current browser session. Please rerun this cell to enable.\n",
              "      </output>\n",
              "      <script>// Copyright 2017 Google LLC\n",
              "//\n",
              "// Licensed under the Apache License, Version 2.0 (the \"License\");\n",
              "// you may not use this file except in compliance with the License.\n",
              "// You may obtain a copy of the License at\n",
              "//\n",
              "//      http://www.apache.org/licenses/LICENSE-2.0\n",
              "//\n",
              "// Unless required by applicable law or agreed to in writing, software\n",
              "// distributed under the License is distributed on an \"AS IS\" BASIS,\n",
              "// WITHOUT WARRANTIES OR CONDITIONS OF ANY KIND, either express or implied.\n",
              "// See the License for the specific language governing permissions and\n",
              "// limitations under the License.\n",
              "\n",
              "/**\n",
              " * @fileoverview Helpers for google.colab Python module.\n",
              " */\n",
              "(function(scope) {\n",
              "function span(text, styleAttributes = {}) {\n",
              "  const element = document.createElement('span');\n",
              "  element.textContent = text;\n",
              "  for (const key of Object.keys(styleAttributes)) {\n",
              "    element.style[key] = styleAttributes[key];\n",
              "  }\n",
              "  return element;\n",
              "}\n",
              "\n",
              "// Max number of bytes which will be uploaded at a time.\n",
              "const MAX_PAYLOAD_SIZE = 100 * 1024;\n",
              "\n",
              "function _uploadFiles(inputId, outputId) {\n",
              "  const steps = uploadFilesStep(inputId, outputId);\n",
              "  const outputElement = document.getElementById(outputId);\n",
              "  // Cache steps on the outputElement to make it available for the next call\n",
              "  // to uploadFilesContinue from Python.\n",
              "  outputElement.steps = steps;\n",
              "\n",
              "  return _uploadFilesContinue(outputId);\n",
              "}\n",
              "\n",
              "// This is roughly an async generator (not supported in the browser yet),\n",
              "// where there are multiple asynchronous steps and the Python side is going\n",
              "// to poll for completion of each step.\n",
              "// This uses a Promise to block the python side on completion of each step,\n",
              "// then passes the result of the previous step as the input to the next step.\n",
              "function _uploadFilesContinue(outputId) {\n",
              "  const outputElement = document.getElementById(outputId);\n",
              "  const steps = outputElement.steps;\n",
              "\n",
              "  const next = steps.next(outputElement.lastPromiseValue);\n",
              "  return Promise.resolve(next.value.promise).then((value) => {\n",
              "    // Cache the last promise value to make it available to the next\n",
              "    // step of the generator.\n",
              "    outputElement.lastPromiseValue = value;\n",
              "    return next.value.response;\n",
              "  });\n",
              "}\n",
              "\n",
              "/**\n",
              " * Generator function which is called between each async step of the upload\n",
              " * process.\n",
              " * @param {string} inputId Element ID of the input file picker element.\n",
              " * @param {string} outputId Element ID of the output display.\n",
              " * @return {!Iterable<!Object>} Iterable of next steps.\n",
              " */\n",
              "function* uploadFilesStep(inputId, outputId) {\n",
              "  const inputElement = document.getElementById(inputId);\n",
              "  inputElement.disabled = false;\n",
              "\n",
              "  const outputElement = document.getElementById(outputId);\n",
              "  outputElement.innerHTML = '';\n",
              "\n",
              "  const pickedPromise = new Promise((resolve) => {\n",
              "    inputElement.addEventListener('change', (e) => {\n",
              "      resolve(e.target.files);\n",
              "    });\n",
              "  });\n",
              "\n",
              "  const cancel = document.createElement('button');\n",
              "  inputElement.parentElement.appendChild(cancel);\n",
              "  cancel.textContent = 'Cancel upload';\n",
              "  const cancelPromise = new Promise((resolve) => {\n",
              "    cancel.onclick = () => {\n",
              "      resolve(null);\n",
              "    };\n",
              "  });\n",
              "\n",
              "  // Wait for the user to pick the files.\n",
              "  const files = yield {\n",
              "    promise: Promise.race([pickedPromise, cancelPromise]),\n",
              "    response: {\n",
              "      action: 'starting',\n",
              "    }\n",
              "  };\n",
              "\n",
              "  cancel.remove();\n",
              "\n",
              "  // Disable the input element since further picks are not allowed.\n",
              "  inputElement.disabled = true;\n",
              "\n",
              "  if (!files) {\n",
              "    return {\n",
              "      response: {\n",
              "        action: 'complete',\n",
              "      }\n",
              "    };\n",
              "  }\n",
              "\n",
              "  for (const file of files) {\n",
              "    const li = document.createElement('li');\n",
              "    li.append(span(file.name, {fontWeight: 'bold'}));\n",
              "    li.append(span(\n",
              "        `(${file.type || 'n/a'}) - ${file.size} bytes, ` +\n",
              "        `last modified: ${\n",
              "            file.lastModifiedDate ? file.lastModifiedDate.toLocaleDateString() :\n",
              "                                    'n/a'} - `));\n",
              "    const percent = span('0% done');\n",
              "    li.appendChild(percent);\n",
              "\n",
              "    outputElement.appendChild(li);\n",
              "\n",
              "    const fileDataPromise = new Promise((resolve) => {\n",
              "      const reader = new FileReader();\n",
              "      reader.onload = (e) => {\n",
              "        resolve(e.target.result);\n",
              "      };\n",
              "      reader.readAsArrayBuffer(file);\n",
              "    });\n",
              "    // Wait for the data to be ready.\n",
              "    let fileData = yield {\n",
              "      promise: fileDataPromise,\n",
              "      response: {\n",
              "        action: 'continue',\n",
              "      }\n",
              "    };\n",
              "\n",
              "    // Use a chunked sending to avoid message size limits. See b/62115660.\n",
              "    let position = 0;\n",
              "    do {\n",
              "      const length = Math.min(fileData.byteLength - position, MAX_PAYLOAD_SIZE);\n",
              "      const chunk = new Uint8Array(fileData, position, length);\n",
              "      position += length;\n",
              "\n",
              "      const base64 = btoa(String.fromCharCode.apply(null, chunk));\n",
              "      yield {\n",
              "        response: {\n",
              "          action: 'append',\n",
              "          file: file.name,\n",
              "          data: base64,\n",
              "        },\n",
              "      };\n",
              "\n",
              "      let percentDone = fileData.byteLength === 0 ?\n",
              "          100 :\n",
              "          Math.round((position / fileData.byteLength) * 100);\n",
              "      percent.textContent = `${percentDone}% done`;\n",
              "\n",
              "    } while (position < fileData.byteLength);\n",
              "  }\n",
              "\n",
              "  // All done.\n",
              "  yield {\n",
              "    response: {\n",
              "      action: 'complete',\n",
              "    }\n",
              "  };\n",
              "}\n",
              "\n",
              "scope.google = scope.google || {};\n",
              "scope.google.colab = scope.google.colab || {};\n",
              "scope.google.colab._files = {\n",
              "  _uploadFiles,\n",
              "  _uploadFilesContinue,\n",
              "};\n",
              "})(self);\n",
              "</script> "
            ]
          },
          "metadata": {}
        },
        {
          "output_type": "stream",
          "name": "stdout",
          "text": [
            "Saving 50-states.txt to 50-states.txt\n"
          ]
        }
      ]
    },
    {
      "cell_type": "markdown",
      "source": [
        "code to load and process the file"
      ],
      "metadata": {
        "id": "RRF4LF7vb71K"
      }
    },
    {
      "cell_type": "code",
      "source": [
        "\n",
        "states_capitals = {}\n",
        "\n",
        "with open(\"50-states.txt\", \"r\") as f:\n",
        "    lines = f.read().splitlines()\n",
        "\n",
        "for line in lines:\n",
        "    if ', ' in line:\n",
        "        capital, state = line.split(', ')\n",
        "        states_capitals[state] = capital\n",
        "\n",
        "# Preview some results\n",
        "for state, capital in list(states_capitals.items())[:5]:\n",
        "    print(f\"{state} - {capital}\")\n"
      ],
      "metadata": {
        "colab": {
          "base_uri": "https://localhost:8080/"
        },
        "id": "ygHYpnhPb8rS",
        "outputId": "07843568-ebfa-42c4-a068-88fc577f5beb"
      },
      "execution_count": 4,
      "outputs": [
        {
          "output_type": "stream",
          "name": "stdout",
          "text": [
            "Alabama - Montgomery\n",
            "Alaska - Juneau\n",
            "Arizona - Phoenix\n",
            "Arkansas - Little Rock\n",
            "California - Sacramento\n"
          ]
        }
      ]
    },
    {
      "cell_type": "markdown",
      "source": [
        "Quiz Function"
      ],
      "metadata": {
        "id": "AkE5U8xxcHgq"
      }
    },
    {
      "cell_type": "code",
      "source": [
        "# Step 2: Function to quiz the user\n",
        "\n",
        "import random\n",
        "\n",
        "def quiz_user(states_dict, num_questions=5):\n",
        "    print(\"Welcome to the U.S. State Capitals Quiz!\")\n",
        "    correct = 0\n",
        "    states = list(states_dict.keys())\n",
        "\n",
        "    for _ in range(num_questions):\n",
        "        state = random.choice(states)\n",
        "        answer = input(f\"What is the capital of {state}? \").strip()\n",
        "        if answer.lower() == states_dict[state].lower():\n",
        "            print(\"✅ Correct!\\n\")\n",
        "            correct += 1\n",
        "        else:\n",
        "            print(f\"❌ Incorrect. The capital of {state} is {states_dict[state]}.\\n\")\n",
        "\n",
        "    print(f\"You got {correct} out of {num_questions} correct!\")\n",
        "\n",
        "# 👉 To start the quiz, run this in another cell:\n",
        "# quiz_user(states_capitals)"
      ],
      "metadata": {
        "id": "912k_ddKcIe6"
      },
      "execution_count": null,
      "outputs": []
    },
    {
      "cell_type": "code",
      "source": [
        "# Step 3: Create student dictionaries\n",
        "\n",
        "Gary = {\n",
        "    \"name\": \"Gary\",\n",
        "    \"homework\": [90.0, 97.0, 75.0, 92.0],\n",
        "    \"quizzes\": [88.0, 40.0, 94.0],\n",
        "    \"tests\": [75.0, 90.0]\n",
        "}\n",
        "\n",
        "Alice = {\n",
        "    \"name\": \"Alice\",\n",
        "    \"homework\": [100.0, 92.0, 98.0, 100.0],\n",
        "    \"quizzes\": [82.0, 83.0, 91.0],\n",
        "    \"tests\": [89.0, 97.0]\n",
        "}\n",
        "\n",
        "Tyler = {\n",
        "    \"name\": \"Tyler\",\n",
        "    \"homework\": [0.0, 87.0, 75.0, 22.0],\n",
        "    \"quizzes\": [0.0, 75.0, 78.0],\n",
        "    \"tests\": [100.0, 100.0]\n",
        "}\n"
      ],
      "metadata": {
        "id": "g4LgVTQ6cNye"
      },
      "execution_count": null,
      "outputs": []
    },
    {
      "cell_type": "code",
      "source": [
        "# Step 4: Function to calculate the average of a list\n",
        "\n",
        "def average(numbers):\n",
        "    return sum(numbers) / len(numbers)\n"
      ],
      "metadata": {
        "id": "20rjpalncQp0"
      },
      "execution_count": 7,
      "outputs": []
    },
    {
      "cell_type": "code",
      "source": [
        "# Step 5: Calculate averages and final grade\n",
        "\n",
        "def student_averages(student):\n",
        "    hw_avg = average(student['homework'])\n",
        "    quiz_avg = average(student['quizzes'])\n",
        "    test_avg = average(student['tests'])\n",
        "    overall = 0.1 * hw_avg + 0.3 * quiz_avg + 0.6 * test_avg\n",
        "    return hw_avg, quiz_avg, test_avg, overall\n",
        "\n",
        "def get_letter_grade(score):\n",
        "    if score >= 90:\n",
        "        return \"A\"\n",
        "    elif score >= 80:\n",
        "        return \"B\"\n",
        "    elif score >= 70:\n",
        "        return \"C\"\n",
        "    elif score >= 60:\n",
        "        return \"D\"\n",
        "    else:\n",
        "        return \"F\"\n"
      ],
      "metadata": {
        "id": "ZfJD53T6cTNu"
      },
      "execution_count": 8,
      "outputs": []
    },
    {
      "cell_type": "code",
      "source": [
        "# Step 6: Show all results for each student\n",
        "\n",
        "students = [Gary, Alice, Tyler]\n",
        "\n",
        "for student in students:\n",
        "    hw, quiz, test, overall = student_averages(student)\n",
        "    letter = get_letter_grade(overall)\n",
        "    print(f\"\\nStudent: {student['name']}\")\n",
        "    print(f\"  Homework Average: {hw:.2f}\")\n",
        "    print(f\"  Quiz Average: {quiz:.2f}\")\n",
        "    print(f\"  Test Average: {test:.2f}\")\n",
        "    print(f\"  Overall Grade: {overall:.2f}\")\n",
        "    print(f\"  Letter Grade: {letter}\")\n"
      ],
      "metadata": {
        "colab": {
          "base_uri": "https://localhost:8080/"
        },
        "id": "dr8aLvCtcWFB",
        "outputId": "13448a6c-00cd-4372-cfdc-daeab17b414d"
      },
      "execution_count": 9,
      "outputs": [
        {
          "output_type": "stream",
          "name": "stdout",
          "text": [
            "\n",
            "Student: Gary\n",
            "  Homework Average: 88.50\n",
            "  Quiz Average: 74.00\n",
            "  Test Average: 82.50\n",
            "  Overall Grade: 80.55\n",
            "  Letter Grade: B\n",
            "\n",
            "Student: Alice\n",
            "  Homework Average: 97.50\n",
            "  Quiz Average: 85.33\n",
            "  Test Average: 93.00\n",
            "  Overall Grade: 91.15\n",
            "  Letter Grade: A\n",
            "\n",
            "Student: Tyler\n",
            "  Homework Average: 46.00\n",
            "  Quiz Average: 51.00\n",
            "  Test Average: 100.00\n",
            "  Overall Grade: 79.90\n",
            "  Letter Grade: C\n"
          ]
        }
      ]
    },
    {
      "cell_type": "code",
      "source": [
        "quiz_user(states_capitals)\n"
      ],
      "metadata": {
        "colab": {
          "base_uri": "https://localhost:8080/"
        },
        "id": "_npjdYescdi4",
        "outputId": "e098bbe3-7df3-45f4-a90b-1413aa3561ac"
      },
      "execution_count": null,
      "outputs": [
        {
          "output_type": "stream",
          "name": "stdout",
          "text": [
            "Welcome to the U.S. State Capitals Quiz!\n",
            "What is the capital of Massachusetts? Boston\n",
            "✅ Correct!\n",
            "\n",
            "What is the capital of Florida? Tallahassee\n",
            "✅ Correct!\n",
            "\n"
          ]
        }
      ]
    }
  ]
}