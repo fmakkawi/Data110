{
  "nbformat": 4,
  "nbformat_minor": 0,
  "metadata": {
    "colab": {
      "provenance": [],
      "authorship_tag": "ABX9TyPa7JpoTpn8PtmDbTb19Fwr",
      "include_colab_link": true
    },
    "kernelspec": {
      "name": "python3",
      "display_name": "Python 3"
    },
    "language_info": {
      "name": "python"
    }
  },
  "cells": [
    {
      "cell_type": "markdown",
      "metadata": {
        "id": "view-in-github",
        "colab_type": "text"
      },
      "source": [
        "<a href=\"https://colab.research.google.com/github/fmakkawi/Data110/blob/main/HW_9.ipynb\" target=\"_parent\"><img src=\"https://colab.research.google.com/assets/colab-badge.svg\" alt=\"Open In Colab\"/></a>"
      ]
    },
    {
      "cell_type": "code",
      "source": [
        "# Author: Farah Makkawi\n",
        "\n",
        "import requests\n",
        "from bs4 import BeautifulSoup\n",
        "\n",
        "def find_google_rank(query, target_url):\n",
        "    headers = {\n",
        "        \"User-Agent\": \"Mozilla/5.0\"\n",
        "    }\n",
        "\n",
        "    query = query.replace(' ', '+')\n",
        "    url = f\"https://www.google.com/search?q={query}\"\n",
        "\n",
        "    try:\n",
        "        response = requests.get(url, headers=headers)\n",
        "        soup = BeautifulSoup(response.text, 'html.parser')\n",
        "\n",
        "        results = soup.find_all('div', class_='yuRUbf')\n",
        "\n",
        "        print(\"🔍 Top search results found:\")\n",
        "        for index, result in enumerate(results):\n",
        "            link = result.a.get('href')\n",
        "            print(f\"{index + 1}: {link}\")\n",
        "            if target_url in link:\n",
        "                return index + 1\n",
        "        return -1\n",
        "    except Exception as e:\n",
        "        print(\"❌ Error occurred:\", e)\n",
        "        return None\n",
        "\n",
        "# Test run\n",
        "if __name__ == \"__main__\":\n",
        "    search_query = \"Montgomery College\"\n",
        "    website = \"montgomerycollege.edu\"\n",
        "    rank = find_google_rank(search_query, website)\n",
        "\n",
        "    print(\"\\n📊 Result:\")\n",
        "    if rank == -1:\n",
        "        print(\"The website was not found in the top results.\")\n",
        "    elif rank is None:\n",
        "        print(\"There was an error while trying to find the rank.\")\n",
        "    else:\n",
        "        print(f\"The website '{website}' is ranked #{rank} for the query '{search_query}'\")\n"
      ],
      "metadata": {
        "colab": {
          "base_uri": "https://localhost:8080/"
        },
        "id": "blCm4vBtB_om",
        "outputId": "fffc47f5-6258-4dfe-dcb2-6713d03d08ad"
      },
      "execution_count": 2,
      "outputs": [
        {
          "output_type": "stream",
          "name": "stdout",
          "text": [
            "🔍 Top search results found:\n",
            "\n",
            "📊 Result:\n",
            "The website was not found in the top results.\n"
          ]
        }
      ]
    }
  ]
}