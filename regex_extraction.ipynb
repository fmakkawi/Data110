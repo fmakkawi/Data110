{
  "nbformat": 4,
  "nbformat_minor": 0,
  "metadata": {
    "colab": {
      "provenance": [],
      "authorship_tag": "ABX9TyMnOSQkuo5n7bGHZD5p5i68",
      "include_colab_link": true
    },
    "kernelspec": {
      "name": "python3",
      "display_name": "Python 3"
    },
    "language_info": {
      "name": "python"
    }
  },
  "cells": [
    {
      "cell_type": "markdown",
      "metadata": {
        "id": "view-in-github",
        "colab_type": "text"
      },
      "source": [
        "<a href=\"https://colab.research.google.com/github/fmakkawi/Data110/blob/main/regex_extraction.ipynb\" target=\"_parent\"><img src=\"https://colab.research.google.com/assets/colab-badge.svg\" alt=\"Open In Colab\"/></a>"
      ]
    },
    {
      "cell_type": "code",
      "execution_count": 1,
      "metadata": {
        "colab": {
          "base_uri": "https://localhost:8080/"
        },
        "id": "pUDaUju3RPNu",
        "outputId": "db44d205-97da-40ae-fe1f-b3795f84975f"
      },
      "outputs": [
        {
          "output_type": "stream",
          "name": "stdout",
          "text": [
            "Emails found: ['farahmakkawi@gmail.com', 'f.makkawi@college.edu']\n",
            "Phone numbers found: ['240-840-7421', '(301) 555-8833']\n"
          ]
        }
      ],
      "source": [
        "import re\n",
        "\n",
        "text = \"\"\"\n",
        "Hi, my name is Farah. You can contact me at farahmakkawi@gmail.com or 240-840-7421.\n",
        "My backup email is f.makkawi@college.edu and my office number is (301) 555-8833.\n",
        "\"\"\"\n",
        "\n",
        "# Extract emails\n",
        "emails = re.findall(r\"[a-zA-Z0-9_.+-]+@[a-zA-Z0-9-]+\\.[a-zA-Z0-9-.]+\", text)\n",
        "\n",
        "# Extract phone numbers\n",
        "phones = re.findall(r\"\\(?\\d{3}\\)?[-.\\s]?\\d{3}[-.\\s]?\\d{4}\", text)\n",
        "\n",
        "print(\"Emails found:\", emails)\n",
        "print(\"Phone numbers found:\", phones)\n"
      ]
    }
  ]
}