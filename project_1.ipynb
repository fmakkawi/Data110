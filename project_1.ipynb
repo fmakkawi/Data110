{
  "nbformat": 4,
  "nbformat_minor": 0,
  "metadata": {
    "colab": {
      "provenance": [],
      "authorship_tag": "ABX9TyPbgOUagCr/RA50CM7ZgXFY",
      "include_colab_link": true
    },
    "kernelspec": {
      "name": "python3",
      "display_name": "Python 3"
    },
    "language_info": {
      "name": "python"
    }
  },
  "cells": [
    {
      "cell_type": "markdown",
      "metadata": {
        "id": "view-in-github",
        "colab_type": "text"
      },
      "source": [
        "<a href=\"https://colab.research.google.com/github/fmakkawi/Data110/blob/main/project_1.ipynb\" target=\"_parent\"><img src=\"https://colab.research.google.com/assets/colab-badge.svg\" alt=\"Open In Colab\"/></a>"
      ]
    },
    {
      "cell_type": "markdown",
      "source": [
        "# Author: Farah Makkawi\n",
        "# Project: Number Converter\n",
        "# Description: Converts decimal numbers to Hexadecimal, Octal, Binary, English Words, and Pounds to Kilograms"
      ],
      "metadata": {
        "id": "3SxGPjpk-9c4"
      }
    },
    {
      "cell_type": "code",
      "execution_count": 3,
      "metadata": {
        "colab": {
          "base_uri": "https://localhost:8080/",
          "height": 870
        },
        "id": "o20TL7wZ-yIw",
        "outputId": "cb081ca1-1124-4df7-fa19-3a5b8fc82321"
      },
      "outputs": [
        {
          "output_type": "stream",
          "name": "stdout",
          "text": [
            "\n",
            "Number Converter Menu\n",
            "1. Decimal to Hexadecimal\n",
            "2. Decimal to Octal\n",
            "3. Decimal to Binary\n",
            "4. Decimal to English Words\n",
            "5. Pounds to Kilograms\n",
            "6. Exit\n",
            "Select an option (1–6): 1\n",
            "Enter a number between 0 and 999: 2\n",
            "Hexadecimal: 0x2\n",
            "\n",
            "Number Converter Menu\n",
            "1. Decimal to Hexadecimal\n",
            "2. Decimal to Octal\n",
            "3. Decimal to Binary\n",
            "4. Decimal to English Words\n",
            "5. Pounds to Kilograms\n",
            "6. Exit\n",
            "Select an option (1–6): 3\n",
            "Enter a number between 0 and 999: 4\n",
            "Binary: 0b100\n",
            "\n",
            "Number Converter Menu\n",
            "1. Decimal to Hexadecimal\n",
            "2. Decimal to Octal\n",
            "3. Decimal to Binary\n",
            "4. Decimal to English Words\n",
            "5. Pounds to Kilograms\n",
            "6. Exit\n",
            "Select an option (1–6): 5\n",
            "Enter a number between 0 and 999: 50\n",
            "50 pounds is 22.68 kilograms\n",
            "\n",
            "Number Converter Menu\n",
            "1. Decimal to Hexadecimal\n",
            "2. Decimal to Octal\n",
            "3. Decimal to Binary\n",
            "4. Decimal to English Words\n",
            "5. Pounds to Kilograms\n",
            "6. Exit\n",
            "Select an option (1–6): 6\n",
            "Goodbye!\n"
          ]
        },
        {
          "output_type": "error",
          "ename": "SystemExit",
          "evalue": "",
          "traceback": [
            "An exception has occurred, use %tb to see the full traceback.\n",
            "\u001b[0;31mSystemExit\u001b[0m\n"
          ]
        },
        {
          "output_type": "stream",
          "name": "stderr",
          "text": [
            "/usr/local/lib/python3.11/dist-packages/IPython/core/interactiveshell.py:3561: UserWarning: To exit: use 'exit', 'quit', or Ctrl-D.\n",
            "  warn(\"To exit: use 'exit', 'quit', or Ctrl-D.\", stacklevel=1)\n"
          ]
        }
      ],
      "source": [
        "# Author: Farah Makkawi\n",
        "# Project: Number Converter\n",
        "# Description: Converts decimal numbers to Hexadecimal, Octal, Binary, English Words, and Pounds to Kilograms\n",
        "\n",
        "import sys\n",
        "\n",
        "def decimal_to_hex(n):\n",
        "    return hex(n)\n",
        "\n",
        "def decimal_to_octal(n):\n",
        "    return oct(n)\n",
        "\n",
        "def decimal_to_binary(n):\n",
        "    return bin(n)\n",
        "\n",
        "def decimal_to_words(n):\n",
        "    import inflect\n",
        "    p = inflect.engine()\n",
        "    return p.number_to_words(n).capitalize()\n",
        "\n",
        "def pounds_to_kilograms(n):\n",
        "    return round(n * 0.453592, 3)\n",
        "\n",
        "def is_valid_input(value):\n",
        "    try:\n",
        "        number = int(value)\n",
        "        if 0 <= number <= 999:\n",
        "            return True, number\n",
        "        else:\n",
        "            return False, None\n",
        "    except ValueError:\n",
        "        return False, None\n",
        "\n",
        "def menu():\n",
        "    while True:\n",
        "        print(\"\\nNumber Converter Menu\")\n",
        "        print(\"1. Decimal to Hexadecimal\")\n",
        "        print(\"2. Decimal to Octal\")\n",
        "        print(\"3. Decimal to Binary\")\n",
        "        print(\"4. Decimal to English Words\")\n",
        "        print(\"5. Pounds to Kilograms\")\n",
        "        print(\"6. Exit\")\n",
        "\n",
        "        choice = input(\"Select an option (1–6): \")\n",
        "\n",
        "        if choice == '6':\n",
        "            print(\"Goodbye!\")\n",
        "            sys.exit()\n",
        "\n",
        "        value = input(\"Enter a number between 0 and 999: \")\n",
        "        valid, number = is_valid_input(value)\n",
        "\n",
        "        if not valid:\n",
        "            print(\"Invalid input. Please enter a number between 0 and 999.\")\n",
        "            continue\n",
        "\n",
        "        if choice == '1':\n",
        "            print(f\"Hexadecimal: {decimal_to_hex(number)}\")\n",
        "        elif choice == '2':\n",
        "            print(f\"Octal: {decimal_to_octal(number)}\")\n",
        "        elif choice == '3':\n",
        "            print(f\"Binary: {decimal_to_binary(number)}\")\n",
        "        elif choice == '4':\n",
        "            print(f\"Words: {decimal_to_words(number)}\")\n",
        "        elif choice == '5':\n",
        "            print(f\"{number} pounds is {pounds_to_kilograms(number)} kilograms\")\n",
        "        else:\n",
        "            print(\"Invalid choice. Please select 1 to 6.\")\n",
        "\n",
        "if __name__ == \"__main__\":\n",
        "    menu()\n"
      ]
    }
  ]
}