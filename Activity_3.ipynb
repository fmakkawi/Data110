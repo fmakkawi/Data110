{
  "nbformat": 4,
  "nbformat_minor": 0,
  "metadata": {
    "colab": {
      "provenance": [],
      "authorship_tag": "ABX9TyNaHgAcXfGpSCLEIf3RD0+u",
      "include_colab_link": true
    },
    "kernelspec": {
      "name": "python3",
      "display_name": "Python 3"
    },
    "language_info": {
      "name": "python"
    }
  },
  "cells": [
    {
      "cell_type": "markdown",
      "metadata": {
        "id": "view-in-github",
        "colab_type": "text"
      },
      "source": [
        "<a href=\"https://colab.research.google.com/github/fmakkawi/Data110/blob/main/Activity_3.ipynb\" target=\"_parent\"><img src=\"https://colab.research.google.com/assets/colab-badge.svg\" alt=\"Open In Colab\"/></a>"
      ]
    },
    {
      "cell_type": "markdown",
      "source": [
        "Farah Makkawi"
      ],
      "metadata": {
        "id": "9_LQY2QrIPvV"
      }
    },
    {
      "cell_type": "code",
      "source": [
        "from datetime import datetime\n",
        "\n",
        "# This function takes a date and turns it into Month Day, Year\n",
        "def format_date(date_str):\n",
        "    try:\n",
        "        new_date = datetime.strptime(date_str, \"%m/%d/%y\")\n",
        "        return new_date.strftime(\"%B %d, %Y\")\n",
        "    except:\n",
        "        return \"Invalid date\"\n",
        "\n",
        "# This function calculates weekly pay with overtime\n",
        "def calculate_weekly_pay(hours, rate):\n",
        "    try:\n",
        "        hours = float(hours)\n",
        "        rate = float(rate)\n",
        "        if hours <= 40:\n",
        "            return hours * rate\n",
        "        else:\n",
        "            overtime_hours = hours - 40\n",
        "            return (40 * rate) + (overtime_hours * rate * 1.5)\n",
        "    except:\n",
        "        return \"Invalid input\"\n",
        "\n",
        "   # Example tests\n",
        "print(format_date(\"3/12/19\"))\n",
        "print(format_date(\"2/29/24\"))\n",
        "print(format_date(\"3/45/24\"))\n",
        "print(calculate_weekly_pay(40, 10))\n",
        "print(calculate_weekly_pay(45, 10))\n",
        "\n"
      ],
      "metadata": {
        "colab": {
          "base_uri": "https://localhost:8080/"
        },
        "id": "wzTmV_4_ISh5",
        "outputId": "df9a149f-5d85-48d7-d978-4747bade750e"
      },
      "execution_count": 4,
      "outputs": [
        {
          "output_type": "stream",
          "name": "stdout",
          "text": [
            "March 12, 2019\n",
            "February 29, 2024\n",
            "Invalid date\n",
            "400.0\n",
            "475.0\n"
          ]
        }
      ]
    }
  ]
}