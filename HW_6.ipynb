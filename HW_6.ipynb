{
  "nbformat": 4,
  "nbformat_minor": 0,
  "metadata": {
    "colab": {
      "provenance": [],
      "authorship_tag": "ABX9TyOHZ+d3qQcf70fvbfFbVNk4",
      "include_colab_link": true
    },
    "kernelspec": {
      "name": "python3",
      "display_name": "Python 3"
    },
    "language_info": {
      "name": "python"
    }
  },
  "cells": [
    {
      "cell_type": "markdown",
      "metadata": {
        "id": "view-in-github",
        "colab_type": "text"
      },
      "source": [
        "<a href=\"https://colab.research.google.com/github/fmakkawi/Data110/blob/main/HW_6.ipynb\" target=\"_parent\"><img src=\"https://colab.research.google.com/assets/colab-badge.svg\" alt=\"Open In Colab\"/></a>"
      ]
    },
    {
      "cell_type": "code",
      "source": [
        "# Author: Farah Makkawi\n",
        "\n",
        "# This is the list of people (first name, last name, distance to travel)\n",
        "people = [\n",
        "    ('Donald', 'Trump', 4.85),\n",
        "    ('Vladimir', 'Putin', 3.62),\n",
        "    ('Jinping', 'Xi', 8.36),\n",
        "    ('George', 'Bush', 10.60)\n",
        "]\n",
        "\n",
        "# Function to sort the records based on user's choice\n",
        "def sort_records(list_data, order_by):\n",
        "    if order_by == 'first name':\n",
        "        result = sorted(list_data, key=lambda x: x[0])\n",
        "    elif order_by == 'last name':\n",
        "        result = sorted(list_data, key=lambda x: x[1])\n",
        "    elif order_by == 'distance':\n",
        "        result = sorted(list_data, key=lambda x: x[2])\n",
        "    else:\n",
        "        print(\"Invalid sorting option. Please choose 'first name', 'last name', or 'distance'.\")\n",
        "        return []\n",
        "\n",
        "    return result\n",
        "\n",
        "# Trying out the function for different sorting types\n",
        "print(\"\\nSorting by first name:\")\n",
        "sorted_list1 = sort_records(people, 'first name')\n",
        "for item in sorted_list1:\n",
        "    print(item)\n",
        "\n",
        "print(\"\\nSorting by last name:\")\n",
        "sorted_list2 = sort_records(people, 'last name')\n",
        "for item in sorted_list2:\n",
        "    print(item)\n",
        "\n",
        "print(\"\\nSorting by distance:\")\n",
        "sorted_list3 = sort_records(people, 'distance')\n",
        "for item in sorted_list3:\n",
        "    print(item)\n"
      ],
      "metadata": {
        "colab": {
          "base_uri": "https://localhost:8080/"
        },
        "id": "K0wV4XBXYF58",
        "outputId": "8302585d-2329-4eac-957d-364f36e4cafb"
      },
      "execution_count": 12,
      "outputs": [
        {
          "output_type": "stream",
          "name": "stdout",
          "text": [
            "\n",
            "Sorting by first name:\n",
            "('Donald', 'Trump', 4.85)\n",
            "('George', 'Bush', 10.6)\n",
            "('Jinping', 'Xi', 8.36)\n",
            "('Vladimir', 'Putin', 3.62)\n",
            "\n",
            "Sorting by last name:\n",
            "('George', 'Bush', 10.6)\n",
            "('Vladimir', 'Putin', 3.62)\n",
            "('Donald', 'Trump', 4.85)\n",
            "('Jinping', 'Xi', 8.36)\n",
            "\n",
            "Sorting by distance:\n",
            "('Vladimir', 'Putin', 3.62)\n",
            "('Donald', 'Trump', 4.85)\n",
            "('Jinping', 'Xi', 8.36)\n",
            "('George', 'Bush', 10.6)\n"
          ]
        }
      ]
    },
    {
      "cell_type": "code",
      "source": [
        "\n",
        "\n",
        "# Function to check if there's a unique 1-to-1 character mapping\n",
        "def has_one_to_one_mapping(s1, s2):\n",
        "    if len(s1) != len(s2):\n",
        "        return False  # Length mismatch, impossible to map\n",
        "\n",
        "    mapping = {}  # Dictionary to store the mapping\n",
        "    used_chars = set()  # Set to track already mapped characters\n",
        "\n",
        "    for i in range(len(s1)):\n",
        "        char1 = s1[i]\n",
        "        char2 = s2[i]\n",
        "\n",
        "        if char1 in mapping:\n",
        "            if mapping[char1] != char2:\n",
        "                return False  # Mismatch in mapping found\n",
        "        else:\n",
        "            if char2 in used_chars:\n",
        "                return False  # A character is already mapped to someone else\n",
        "            mapping[char1] = char2\n",
        "            used_chars.add(char2)\n",
        "\n",
        "    return True\n",
        "\n",
        "# Testing with different examples\n",
        "test1 = has_one_to_one_mapping(\"abc\", \"bcd\")\n",
        "print(\"\\nMapping test between 'abc' and 'bcd' -->\", test1)\n",
        "\n",
        "test2 = has_one_to_one_mapping(\"foo\", \"bar\")\n",
        "print(\"Mapping test between 'foo' and 'bar' -->\", test2)\n",
        "\n",
        "test3 = has_one_to_one_mapping(\"paper\", \"title\")\n",
        "print(\"Mapping test between 'paper' and 'title' -->\", test3)\n",
        "\n",
        "test4 = has_one_to_one_mapping(\"aa\", \"ab\")\n",
        "print(\"Mapping test between 'aa' and 'ab' -->\", test4)\n"
      ],
      "metadata": {
        "colab": {
          "base_uri": "https://localhost:8080/"
        },
        "id": "EiIpP0KnYKov",
        "outputId": "d0adf3a9-7f37-464a-be96-6294840698e5"
      },
      "execution_count": 14,
      "outputs": [
        {
          "output_type": "stream",
          "name": "stdout",
          "text": [
            "\n",
            "Mapping test between 'abc' and 'bcd' --> True\n",
            "Mapping test between 'foo' and 'bar' --> False\n",
            "Mapping test between 'paper' and 'title' --> True\n",
            "Mapping test between 'aa' and 'ab' --> False\n"
          ]
        }
      ]
    }
  ]
}